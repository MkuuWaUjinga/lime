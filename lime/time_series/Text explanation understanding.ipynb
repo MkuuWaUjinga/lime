{
 "cells": [
  {
   "cell_type": "code",
   "execution_count": 1,
   "metadata": {
    "collapsed": true
   },
   "outputs": [],
   "source": [
    "import lime\n",
    "import sklearn\n",
    "import numpy as np\n",
    "import sklearn\n",
    "import sklearn.ensemble\n",
    "import sklearn.metrics\n",
    "from __future__ import print_function"
   ]
  },
  {
   "cell_type": "code",
   "execution_count": 2,
   "metadata": {},
   "outputs": [],
   "source": [
    "from sklearn.datasets import fetch_20newsgroups\n",
    "categories = ['alt.atheism', 'soc.religion.christian']\n",
    "newsgroups_train = fetch_20newsgroups(subset='train', categories=categories)\n",
    "newsgroups_test = fetch_20newsgroups(subset='test', categories=categories)\n",
    "class_names = ['atheism', 'christian']"
   ]
  },
  {
   "cell_type": "code",
   "execution_count": 7,
   "metadata": {},
   "outputs": [
    {
     "data": {
      "text/plain": [
       "1"
      ]
     },
     "execution_count": 7,
     "metadata": {},
     "output_type": "execute_result"
    }
   ],
   "source": [
    "newsgroups_train.target[0]"
   ]
  },
  {
   "cell_type": "markdown",
   "metadata": {},
   "source": [
    "So the first document should be about Christianity:"
   ]
  },
  {
   "cell_type": "code",
   "execution_count": 8,
   "metadata": {},
   "outputs": [
    {
     "data": {
      "text/plain": [
       "'From: nigel.allen@canrem.com (Nigel Allen)\\nSubject: library of congress to host dead sea scroll symposium april 21-22\\nLines: 96\\n\\n\\n Library of Congress to Host Dead Sea Scroll Symposium April 21-22\\n To: National and Assignment desks, Daybook Editor\\n Contact: John Sullivan, 202-707-9216, or Lucy Suddreth, 202-707-9191\\n          both of the Library of Congress\\n\\n   WASHINGTON, April 19  -- A symposium on the Dead Sea \\nScrolls will be held at the Library of Congress on Wednesday,\\nApril 21, and Thursday, April 22.  The two-day program, cosponsored\\nby the library and Baltimore Hebrew University, with additional\\nsupport from the Project Judaica Foundation, will be held in the\\nlibrary\\'s Mumford Room, sixth floor, Madison Building.\\n   Seating is limited, and admission to any session of the symposium\\nmust be requested in writing (see Note A).\\n   The symposium will be held one week before the public opening of a\\nmajor exhibition, \"Scrolls from the Dead Sea: The Ancient Library of\\nQumran and Modern Scholarship,\" that opens at the Library of Congress\\non April 29.  On view will be fragmentary scrolls and archaeological\\nartifacts excavated at Qumran, on loan from the Israel Antiquities\\nAuthority.  Approximately 50 items from Library of Congress special\\ncollections will augment these materials.  The exhibition, on view in\\nthe Madison Gallery, through Aug. 1, is made possible by a generous\\ngift from the Project Judaica Foundation of Washington, D.C.\\n   The Dead Sea Scrolls have been the focus of public and scholarly\\ninterest since 1947, when they were discovered in the desert 13 miles\\neast of Jerusalem.  The symposium will explore the origin and meaning\\nof the scrolls and current scholarship.  Scholars from diverse\\nacademic backgrounds and religious affiliations, will offer their\\ndisparate views, ensuring a lively discussion.\\n   The symposium schedule includes opening remarks on April 21, at\\n2 p.m., by Librarian of Congress James H. Billington, and by\\nDr. Norma Furst, president, Baltimore Hebrew University.  Co-chairing\\nthe symposium are Joseph Baumgarten, professor of Rabbinic Literature\\nand Institutions, Baltimore Hebrew University and Michael Grunberger,\\nhead, Hebraic Section, Library of Congress.\\n   Geza Vermes, professor emeritus of Jewish studies, Oxford\\nUniversity, will give the keynote address on the current state of\\nscroll research, focusing on where we stand today. On the second\\nday, the closing address will be given by Shmaryahu Talmon, who will\\npropose a research agenda, picking up the theme of how the Qumran\\nstudies might proceed.\\n   On Wednesday, April 21, other speakers will include:\\n\\n   -- Eugene Ulrich, professor of Hebrew Scriptures, University of\\nNotre Dame and chief editor, Biblical Scrolls from Qumran, on \"The\\nBible at Qumran;\"\\n   -- Michael Stone, National Endowment for the Humanities\\ndistinguished visiting professor of religious studies, University of\\nRichmond, on \"The Dead Sea Scrolls and the Pseudepigrapha.\"\\n   -- From 5 p.m. to 6:30 p.m. a special preview of the exhibition\\nwill be given to symposium participants and guests.\\n\\n   On Thursday, April 22, beginning at 9 a.m., speakers will include:\\n\\n   -- Magen Broshi, curator, shrine of the Book, Israel Museum,\\nJerusalem, on \"Qumran: The Archaeological Evidence;\"\\n   -- P. Kyle McCarter, Albright professor of Biblical and ancient\\nnear Eastern studies, The Johns Hopkins University, on \"The Copper\\nScroll;\"\\n   -- Lawrence H. Schiffman, professor of Hebrew and Judaic studies,\\nNew York University, on \"The Dead Sea Scrolls and the History of\\nJudaism;\" and\\n   -- James VanderKam, professor of theology, University of Notre\\nDame, on \"Messianism in the Scrolls and in Early Christianity.\"\\n\\n   The Thursday afternoon sessions, at 1:30 p.m., include:\\n\\n   -- Devorah Dimant, associate professor of Bible and Ancient Jewish\\nThought, University of Haifa, on \"Qumran Manuscripts: Library of a\\nJewish Community;\"\\n   -- Norman Golb, Rosenberger professor of Jewish history and\\ncivilization, Oriental Institute, University of Chicago, on \"The\\nCurrent Status of the Jerusalem Origin of the Scrolls;\"\\n   -- Shmaryahu Talmon, J.L. Magnas professor emeritus of Biblical\\nstudies, Hebrew University, Jerusalem, on \"The Essential \\'Commune of\\nthe Renewed Covenant\\': How Should Qumran Studies Proceed?\" will close\\nthe symposium.\\n\\n   There will be ample time for question and answer periods at the\\nend of each session.\\n\\n   Also on Wednesday, April 21, at 11 a.m.:\\n   The Library of Congress and The Israel Antiquities Authority\\nwill hold a lecture by Esther Boyd-Alkalay, consulting conservator,\\nIsrael Antiquities Authority, on \"Preserving the Dead Sea Scrolls\"\\nin the Mumford Room, LM-649, James Madison Memorial Building, The\\nLibrary of Congress, 101 Independence Ave., S.E., Washington, D.C.\\n    ------\\n   NOTE A: For more information about admission to the symposium,\\nplease contact, in writing, Dr. Michael Grunberger, head, Hebraic\\nSection, African and Middle Eastern Division, Library of Congress,\\nWashington, D.C. 20540.\\n -30-\\n--\\nCanada Remote Systems - Toronto, Ontario\\n416-629-7000/629-7044\\n'"
      ]
     },
     "execution_count": 8,
     "metadata": {},
     "output_type": "execute_result"
    }
   ],
   "source": [
    "newsgroups_train.data[0]"
   ]
  },
  {
   "cell_type": "code",
   "execution_count": 3,
   "metadata": {
    "collapsed": true
   },
   "outputs": [],
   "source": [
    "vectorizer = sklearn.feature_extraction.text.TfidfVectorizer(lowercase=False)\n",
    "train_vectors = vectorizer.fit_transform(newsgroups_train.data)\n",
    "test_vectors = vectorizer.transform(newsgroups_test.data)"
   ]
  },
  {
   "cell_type": "code",
   "execution_count": 7,
   "metadata": {},
   "outputs": [
    {
     "data": {
      "text/plain": [
       "RandomForestClassifier(bootstrap=True, class_weight=None, criterion='gini',\n",
       "            max_depth=None, max_features='auto', max_leaf_nodes=None,\n",
       "            min_impurity_split=1e-07, min_samples_leaf=1,\n",
       "            min_samples_split=2, min_weight_fraction_leaf=0.0,\n",
       "            n_estimators=500, n_jobs=1, oob_score=False, random_state=None,\n",
       "            verbose=0, warm_start=False)"
      ]
     },
     "execution_count": 7,
     "metadata": {},
     "output_type": "execute_result"
    }
   ],
   "source": [
    "rf = sklearn.ensemble.RandomForestClassifier(n_estimators=500)\n",
    "rf.fit(train_vectors, newsgroups_train.target)"
   ]
  },
  {
   "cell_type": "code",
   "execution_count": 8,
   "metadata": {},
   "outputs": [
    {
     "data": {
      "text/plain": [
       "0.92200232828870776"
      ]
     },
     "execution_count": 8,
     "metadata": {},
     "output_type": "execute_result"
    }
   ],
   "source": [
    "pred = rf.predict(test_vectors)\n",
    "sklearn.metrics.f1_score(newsgroups_test.target, pred, average='binary')"
   ]
  },
  {
   "cell_type": "code",
   "execution_count": 9,
   "metadata": {
    "collapsed": true
   },
   "outputs": [],
   "source": [
    "from lime import lime_text\n",
    "from sklearn.pipeline import make_pipeline\n",
    "c = make_pipeline(vectorizer, rf)"
   ]
  },
  {
   "cell_type": "code",
   "execution_count": 10,
   "metadata": {},
   "outputs": [
    {
     "name": "stdout",
     "output_type": "stream",
     "text": [
      "[[ 0.306  0.694]]\n"
     ]
    }
   ],
   "source": [
    "print(c.predict_proba([newsgroups_test.data[0]]))"
   ]
  },
  {
   "cell_type": "code",
   "execution_count": 11,
   "metadata": {
    "collapsed": true
   },
   "outputs": [],
   "source": [
    "from lime.lime_text import LimeTextExplainer\n",
    "explainer = LimeTextExplainer(class_names=class_names)"
   ]
  },
  {
   "cell_type": "code",
   "execution_count": 12,
   "metadata": {},
   "outputs": [
    {
     "name": "stderr",
     "output_type": "stream",
     "text": [
      "C:\\ProgramData\\Anaconda3\\lib\\re.py:212: FutureWarning: split() requires a non-empty pattern match.\n",
      "  return _compile(pattern, flags).split(string, maxsplit)\n"
     ]
    },
    {
     "name": "stdout",
     "output_type": "stream",
     "text": [
      "Document id: 83\n",
      "Probability(christian) = 0.44\n",
      "True class: atheism\n"
     ]
    }
   ],
   "source": [
    "idx = 83\n",
    "exp = explainer.explain_instance(newsgroups_test.data[idx], c.predict_proba, num_features=6)\n",
    "print('Document id: %d' % idx)\n",
    "print('Probability(christian) =', c.predict_proba([newsgroups_test.data[idx]])[0,1])\n",
    "print('True class: %s' % class_names[newsgroups_test.target[idx]])"
   ]
  },
  {
   "cell_type": "code",
   "execution_count": 13,
   "metadata": {},
   "outputs": [
    {
     "data": {
      "text/plain": [
       "[('Posting', -0.16094365186037202),\n",
       " ('Host', -0.12368286990677448),\n",
       " ('NNTP', -0.10623940575492265),\n",
       " ('edu', -0.044034031993464624),\n",
       " ('have', -0.010319491449017908),\n",
       " ('There', -0.0087883583735004212)]"
      ]
     },
     "execution_count": 13,
     "metadata": {},
     "output_type": "execute_result"
    }
   ],
   "source": [
    "exp.as_list()"
   ]
  },
  {
   "cell_type": "code",
   "execution_count": null,
   "metadata": {
    "collapsed": true
   },
   "outputs": [],
   "source": []
  }
 ],
 "metadata": {
  "kernelspec": {
   "display_name": "Python 3",
   "language": "python",
   "name": "python3"
  },
  "language_info": {
   "codemirror_mode": {
    "name": "ipython",
    "version": 3
   },
   "file_extension": ".py",
   "mimetype": "text/x-python",
   "name": "python",
   "nbconvert_exporter": "python",
   "pygments_lexer": "ipython3",
   "version": "3.6.0"
  }
 },
 "nbformat": 4,
 "nbformat_minor": 2
}
